{
  "cells": [
    {
      "cell_type": "markdown",
      "metadata": {
        "id": "9WemE2FbEMc6"
      },
      "source": [
        "# Parte 2: Trabajando con el problema de arranque en frio de filtrado basado en contenido (Content-Based Filtering)\n",
        "\n",
        "El `filtrado colaborativo` se basa en las interacciones del usuario con los items (user-item) dentro de una matriz de utilidad. El problema reside en que los nuevos usuarios o los elementos que no cuenten con interacciones registradas van a ser ignoradas por el sistema de recomendacion. A esto se le conoce como el problema de \"Arranque en frio\". El filtrado basado en contenido es una manera de atacar este problema al generar recomendaciones en interacciones usuario-item.\n",
        "\n",
        "En el siguiente ejercicio, generaremos recomendaciones tipo item-item utilizando filtrado basado en contenido."
      ]
    },
    {
      "cell_type": "markdown",
      "metadata": {
        "id": "5jOOxxOfEMc_"
      },
      "source": [
        "### Paso 1: Importar las librerias necesarias\n",
        "\n",
        "Se utiizaran los siguientes paquetes de Python:\n",
        "\n",
        "- [numpy](https://numpy.org/): para calculos cientificos\n",
        "- [pandas](https://pandas.pydata.org/): para manipulacion de dato\n",
        "- [scikit-learn](https://scikit-learn.org/stable/): para funciones de machine learning\n",
        "- [matplotlib](https://matplotlib.org/), [seaborn](https://seaborn.pydata.org/): para visualizacion de datos"
      ]
    },
    {
      "cell_type": "code",
      "execution_count": 1,
      "metadata": {
        "id": "aWKGCrGrEMc_"
      },
      "outputs": [],
      "source": [
        "import numpy as np\n",
        "import pandas as pd\n",
        "import sklearn\n",
        "import matplotlib.pyplot as plt\n",
        "import seaborn as sns\n",
        "\n"
      ]
    },
    {
      "cell_type": "markdown",
      "metadata": {
        "id": "J-XJrIQgEMdA"
      },
      "source": [
        "### Paso 2: Cargando los datos\n",
        "\n",
        "Construiremos nuestro sistema de recomendacion a partir del supuesto de que conocemos muy poco acerca de nuestros usuarios. No contamos con datos suficientes sobre las interacciones con nuestro sistema como para implementar filtrado colaborativo.\n",
        "\n",
        "Exploremos el dataset para conocer su estructura y las propiedades con las que podemos trabajar."
      ]
    },
    {
      "cell_type": "code",
      "execution_count": 2,
      "metadata": {
        "colab": {
          "base_uri": "https://localhost:8080/",
          "height": 72,
          "referenced_widgets": [
            "a6cad0f8c7ea4efb987c1304b5e3ac34",
            "7b35bff3cdc54ebda6747687ff4cead7",
            "f1c2d441e5544240acb46430495bc452",
            "c331e95a86f4415db9b762f9ba604657",
            "3468755acf8840e98a66b2e5a84dad67",
            "b5ad6c56f1a24bdc82c490e7d24a7cf6",
            "2402d05f40f047589a844029662b29fc",
            "f06f5c9e5fd3465a8eae4031f088a322",
            "709288e0533d4dfba509d7a972cd00eb",
            "eddc27de87de41dc84a7e7d225c0badc",
            "a81b0cf686e44017ad6d31871d066579"
          ]
        },
        "id": "fztL1wEnEMdB",
        "outputId": "a7aabd1f-49db-4f19-82ae-dc1df59f6108"
      },
      "outputs": [
        {
          "output_type": "stream",
          "name": "stderr",
          "text": [
            "Found cached dataset amazon-reviews-2023 (/Users/juan_arturo_rg/.cache/huggingface/datasets/McAuley-Lab___amazon-reviews-2023/raw_meta_All_Beauty/0.0.0/16b76e0823d73bb8cff1e9c5e3e37dbc46ae3daee380417ae141f5e67d3ea8e8)\n"
          ]
        },
        {
          "output_type": "display_data",
          "data": {
            "text/plain": [
              "  0%|          | 0/1 [00:00<?, ?it/s]"
            ],
            "application/vnd.jupyter.widget-view+json": {
              "version_major": 2,
              "version_minor": 0,
              "model_id": "a6cad0f8c7ea4efb987c1304b5e3ac34"
            }
          },
          "metadata": {}
        },
        {
          "output_type": "stream",
          "name": "stdout",
          "text": [
            "{'main_category': 'All Beauty', 'title': 'Howard LC0008 Leather Conditioner, 8-Ounce (4-Pack)', 'average_rating': 4.8, 'rating_number': 10, 'features': [], 'description': [], 'price': 'None', 'images': {'hi_res': [None, 'https://m.media-amazon.com/images/I/71i77AuI9xL._SL1500_.jpg'], 'large': ['https://m.media-amazon.com/images/I/41qfjSfqNyL.jpg', 'https://m.media-amazon.com/images/I/41w2yznfuZL.jpg'], 'thumb': ['https://m.media-amazon.com/images/I/41qfjSfqNyL._SS40_.jpg', 'https://m.media-amazon.com/images/I/41w2yznfuZL._SS40_.jpg'], 'variant': ['MAIN', 'PT01']}, 'videos': {'title': [], 'url': [], 'user_id': []}, 'store': 'Howard Products', 'categories': [], 'details': '{\"Package Dimensions\": \"7.1 x 5.5 x 3 inches; 2.38 Pounds\", \"UPC\": \"617390882781\"}', 'parent_asin': 'B01CUPMQZE', 'bought_together': None, 'subtitle': None, 'author': None}\n"
          ]
        }
      ],
      "source": [
        "import os\n",
        "import json\n",
        "DIR = \"/Users/juan_arturo_rg/Documents/Big Data/Proyecto/\"\n",
        "os.chdir(DIR)\n",
        "\n",
        "#movies = pd.read_json(\"australian_users_items.json\")\n",
        "#movies.head()\n",
        "\n",
        "from datasets import load_dataset\n",
        "\n",
        "dataset = load_dataset(\"McAuley-Lab/Amazon-Reviews-2023\", \"raw_meta_All_Beauty\")\n",
        "print(dataset[\"full\"][0])\n",
        "\n",
        "#https://huggingface.co/datasets/McAuley-Lab/Amazon-Reviews-2023\n",
        "#https://cseweb.ucsd.edu/~jmcauley/datasets.html#amazon_reviews\n",
        "#https://github.com/hyp1231/AmazonReviews2023/tree/main/amazon-c4\n",
        "\n"
      ]
    },
    {
      "cell_type": "code",
      "source": [
        "products = pd.DataFrame(dataset[\"full\"])"
      ],
      "metadata": {
        "id": "bWbd8Mv7KarP"
      },
      "execution_count": 3,
      "outputs": []
    },
    {
      "cell_type": "code",
      "source": [
        "def get_attribute_as_column(db, attribute):\n",
        "\n",
        "  r = []\n",
        "  for i in db.index:\n",
        "    try:\n",
        "      r.append(json.loads(db.details[i])[attribute])\n",
        "    except:\n",
        "      r.append(np.nan)\n",
        "  return r"
      ],
      "metadata": {
        "id": "7AKZPfEAMYyX"
      },
      "execution_count": 4,
      "outputs": []
    },
    {
      "cell_type": "code",
      "source": [
        "a = 'Item Form'\n",
        "products[a] = get_attribute_as_column(products, a)"
      ],
      "metadata": {
        "id": "g24aKglzMY5p"
      },
      "execution_count": 5,
      "outputs": []
    },
    {
      "cell_type": "markdown",
      "metadata": {
        "id": "DU6eu5R6EMdC"
      },
      "source": [
        "Podemos ver que el dataset cuenta con el id de la pelicula, el titulo y los generos asociados a dicha pelicula."
      ]
    },
    {
      "cell_type": "markdown",
      "metadata": {
        "id": "wKhr6acrEMdD"
      },
      "source": [
        "### Paso 3: Limpieza y Exploracion de los Datos"
      ]
    },
    {
      "cell_type": "markdown",
      "metadata": {
        "id": "7Ajy-1LyEMdF"
      },
      "source": [
        "Generaremos las columnas de los atributos que nos importan haciendo la limpieza"
      ]
    },
    {
      "cell_type": "code",
      "source": [
        "variables_to_use = ['Item Form', 'Material', 'Hair Type', 'Unit Count', 'Number of Items', 'Material Feature', 'Skin Type']"
      ],
      "metadata": {
        "id": "Y0IWe4oSR6OH"
      },
      "execution_count": 8,
      "outputs": []
    },
    {
      "cell_type": "code",
      "source": [
        "for a in variables_to_use:\n",
        "  products[a] = get_attribute_as_column(products, a)"
      ],
      "metadata": {
        "id": "swXhC_RtR-KF"
      },
      "execution_count": 9,
      "outputs": []
    },
    {
      "cell_type": "markdown",
      "metadata": {
        "id": "qv88rQJWEMdF"
      },
      "source": [
        "#### Cuales son las formas de items mas comunes?\n"
      ]
    },
    {
      "cell_type": "code",
      "execution_count": 10,
      "metadata": {
        "colab": {
          "base_uri": "https://localhost:8080/"
        },
        "id": "Wpi_kts-EMdF",
        "outputId": "84e8c88b-afb0-4894-d941-220681b749f7"
      },
      "outputs": [
        {
          "output_type": "stream",
          "name": "stdout",
          "text": [
            "Existen 737 tipos de items.\n",
            "Top 10 de generos de peliculas: \n",
            " [(nan, 80151), ('Cream', 4272), ('Liquid', 3623), ('Gel', 3386), ('Pair', 1802), ('Powder', 1783), ('Spray', 1719), ('Oil', 1649), ('Bar', 1345), ('Lotion', 1026)]\n"
          ]
        }
      ],
      "source": [
        "from collections import Counter\n",
        "\n",
        "items_form = Counter(g for g in products['Item Form'])\n",
        "print(f\"Existen {len(items_form)} tipos de items.\")\n",
        "items_form\n",
        "\n",
        "print(\"Top 10 de generos de peliculas: \\n\", items_form.most_common(10))"
      ]
    },
    {
      "cell_type": "markdown",
      "metadata": {
        "id": "Vuet1Z0AEMdF"
      },
      "source": [
        "\n",
        "Utilizemos barplot para visualizar esta informacion."
      ]
    },
    {
      "cell_type": "code",
      "execution_count": 11,
      "metadata": {
        "colab": {
          "base_uri": "https://localhost:8080/",
          "height": 519
        },
        "id": "Ovui0tZcEMdF",
        "outputId": "f34ca0c7-d1e2-492b-9df2-6a7e8c4033bc"
      },
      "outputs": [
        {
          "output_type": "display_data",
          "data": {
            "text/plain": [
              "<Figure size 1000x500 with 1 Axes>"
            ],
            "image/png": "[encoded data removed]"
          },
          "metadata": {}
        }
      ],
      "source": [
        "items_form_df = pd.DataFrame([items_form]).T.reset_index()\n",
        "items_form_df.columns = ['form', 'count']\n",
        "items_form_df = items_form_df.sort_values(by='count', ascending=False)\n",
        "items_form_df.reset_index(inplace=True)\n",
        "\n",
        "items_form_df = items_form_df.iloc[0:50]\n",
        "\n",
        "plt.figure(figsize=(10,5))\n",
        "sns.barplot(x='form', y='count', data=items_form_df, palette='rocket')\n",
        "plt.xticks(rotation=90)\n",
        "plt.show()"
      ]
    },
    {
      "cell_type": "code",
      "source": [
        "from collections import Counter\n",
        "\n",
        "materials = Counter(g for g in products['Material'])\n",
        "print(f\"Existen {len(materials)} tipos de materiales.\")\n",
        "materials\n",
        "\n",
        "print(\"Top 10 de generos de peliculas: \\n\", materials.most_common(10))\n",
        "\n",
        "materials_df = pd.DataFrame([materials]).T.reset_index()\n",
        "materials_df.columns = ['material', 'count']\n",
        "materials_df = materials_df.sort_values(by='count', ascending=False)\n",
        "materials_df.reset_index(inplace=True)\n",
        "\n",
        "materials_df = materials_df.iloc[0:50]\n",
        "\n",
        "plt.figure(figsize=(10,5))\n",
        "sns.barplot(x='material', y='count', data=materials_df, palette='rocket')\n",
        "plt.xticks(rotation=90)\n",
        "plt.show()"
      ],
      "metadata": {
        "colab": {
          "base_uri": "https://localhost:8080/",
          "height": 818
        },
        "id": "ESDe_esJXrXg",
        "outputId": "3c1dddc3-3f06-4c1c-cae1-7b1e1f036774"
      },
      "execution_count": 12,
      "outputs": [
        {
          "output_type": "stream",
          "name": "stdout",
          "text": [
            "Existen 1388 tipos de materiales.\n",
            "Top 10 de generos de peliculas: \n",
            " [(nan, 81648), ('Human Hair', 8689), ('Synthetic', 4597), ('Plastic', 1774), ('Acrylic', 1426), ('Human', 976), ('Metal', 939), ('Cotton', 766), ('Rubber', 578), ('Faux Mink', 567)]\n"
          ]
        },
        {
          "output_type": "display_data",
          "data": {
            "text/plain": [
              "<Figure size 1000x500 with 1 Axes>"
            ],
            "image/png": "[encoded data removed]"
          },
          "metadata": {}
        }
      ]
    },
    {
      "cell_type": "markdown",
      "metadata": {
        "id": "QxSILHBAEMdI"
      },
      "source": [
        "Ahora limpiemos nuestro dataset al eliminar todas las peliculas que contengan un `null` en el año."
      ]
    },
    {
      "cell_type": "code",
      "source": [
        "c = products['Material'].replace(np.nan, '')\n",
        "\n",
        "for i in variables_to_use:\n",
        "  c = c + products[i].replace(np.nan, '')"
      ],
      "metadata": {
        "id": "0q3epIAPaS73"
      },
      "execution_count": 13,
      "outputs": []
    },
    {
      "cell_type": "code",
      "source": [
        "products['filter'] = c.replace('', np.nan)"
      ],
      "metadata": {
        "id": "3xKgLIJ7aR8f"
      },
      "execution_count": 14,
      "outputs": []
    },
    {
      "cell_type": "code",
      "execution_count": 15,
      "metadata": {
        "colab": {
          "base_uri": "https://localhost:8080/"
        },
        "id": "bwTxP0DEEMdI",
        "outputId": "394e96cd-ca7f-4aa7-d027-066f0fe5913b"
      },
      "outputs": [
        {
          "output_type": "stream",
          "name": "stdout",
          "text": [
            "Total de peliculas despues de eliminar aquellas con null en el las varaibles a analizar:: 72466\n"
          ]
        }
      ],
      "source": [
        "products = products[~products['filter'].isnull()]\n",
        "print(f\"Total de peliculas despues de eliminar aquellas con null en el las varaibles a analizar:: {products['title'].nunique()}\")\n"
      ]
    },
    {
      "cell_type": "code",
      "source": [],
      "metadata": {
        "id": "NGHALEfKajRd"
      },
      "execution_count": 15,
      "outputs": []
    },
    {
      "cell_type": "markdown",
      "source": [
        "Tambien limpiaremos todas las columnas de los productos que no esten en el arreglo de los 20 atributos mas comunes para evitar una matriz enorme (y sobre entrenada)"
      ],
      "metadata": {
        "id": "uT6jeyIoxC_M"
      }
    },
    {
      "cell_type": "code",
      "source": [
        "#Filtering only top items (to avoid creatign extra categories for the model)\n",
        "\n",
        "def top_de_variable(db, column, top_n):\n",
        "\n",
        "  counter_result = Counter(g for g in db[column])\n",
        "  counter_result_df = pd.DataFrame([counter_result]).T.reset_index()\n",
        "  counter_result_df.columns = [column, 'count']\n",
        "  counter_result_df = counter_result_df[~counter_result_df[column].isnull()]\n",
        "  counter_result_df = counter_result_df.sort_values(by='count', ascending=False)\n",
        "  counter_result_df.reset_index(inplace=True)\n",
        "\n",
        "  counter_result_df = counter_result_df.iloc[0:top_n]\n",
        "\n",
        "  return counter_result_df\n",
        "\n",
        "\n",
        "filter_top = False\n",
        "for i in variables_to_use:\n",
        "\n",
        "  f = top_de_variable(products, i, 20)\n",
        "\n",
        "  filter_top = filter_top + products[i].isin(f[i])"
      ],
      "metadata": {
        "id": "1Mk2i3LjcNHm"
      },
      "execution_count": 16,
      "outputs": []
    },
    {
      "cell_type": "code",
      "source": [
        "products = products[filter_top]\n",
        "print(f\"Total de peliculas despues de eliminar aquellas con que no estaban en el top 20 de las variables mas comnunes quedan:: {products['title'].nunique()}\")"
      ],
      "metadata": {
        "colab": {
          "base_uri": "https://localhost:8080/"
        },
        "id": "JQ0FDY_ocNQI",
        "outputId": "68c0cec5-7f18-4507-e92e-9e452293cb08"
      },
      "execution_count": 17,
      "outputs": [
        {
          "output_type": "stream",
          "name": "stdout",
          "text": [
            "Total de peliculas despues de eliminar aquellas con que no estaban en el top 20 de las variables mas comnunes quedan:: 68164\n"
          ]
        }
      ]
    },
    {
      "cell_type": "markdown",
      "metadata": {
        "id": "Zp_fyOaCEMdJ"
      },
      "source": [
        "### Paso 4: Transformando los datos\n",
        "\n",
        "Para construir un sistema de recomendacion con filtrado basado en contenido necesitamos preparar nuestro dataset de forma tal que las filas representen los items y las columnas las caracteristicas"
      ]
    },
    {
      "cell_type": "code",
      "execution_count": 19,
      "metadata": {
        "id": "45CYFVPREMdJ",
        "colab": {
          "base_uri": "https://localhost:8080/",
          "height": 324
        },
        "outputId": "d908de02-f460-4e30-c3ab-5d4fc2135594"
      },
      "outputs": [
        {
          "output_type": "stream",
          "name": "stderr",
          "text": [
            "/var/folders/f1/n63zt7151hb91yx0gw6r_3xr0000gn/T/ipykernel_54570/1416780769.py:24: PerformanceWarning: DataFrame is highly fragmented.  This is usually the result of calling `frame.insert` many times, which has poor performance.  Consider joining all columns at once using pd.concat(axis=1) instead. To get a de-fragmented frame, use `newframe = frame.copy()`\n",
            "  product_features.reset_index(inplace=True)\n",
            "/var/folders/f1/n63zt7151hb91yx0gw6r_3xr0000gn/T/ipykernel_54570/1416780769.py:25: PerformanceWarning: DataFrame is highly fragmented.  This is usually the result of calling `frame.insert` many times, which has poor performance.  Consider joining all columns at once using pd.concat(axis=1) instead. To get a de-fragmented frame, use `newframe = frame.copy()`\n",
            "  products.reset_index(inplace=True)\n"
          ]
        },
        {
          "output_type": "execute_result",
          "data": {
            "text/plain": [
              "   index  All  Sensitive  Dry  Acne Prone  Oily  Normal  Combination  Mature  \\\n",
              "0      1    0          0    0           1     0       0            0       0   \n",
              "1      3    1          0    0           0     0       0            0       0   \n",
              "2      5    0          0    0           0     0       0            0       0   \n",
              "3      6    0          0    0           0     0       0            0       0   \n",
              "4      8    0          0    0           0     0       0            0       0   \n",
              "\n",
              "   Sensitive, Dry  ...  Stick  Wand  Balm  Wrap  Scrunchie  Individual  \\\n",
              "0               0  ...      0     0     0     0          0           0   \n",
              "1               0  ...      0     0     0     0          0           0   \n",
              "2               0  ...      0     0     0     0          0           0   \n",
              "3               0  ...      0     0     0     0          0           0   \n",
              "4               0  ...      0     0     0     0          0           0   \n",
              "\n",
              "   Elastic  Sheet  Clay  Serum  \n",
              "0        0      0     0      0  \n",
              "1        0      0     0      0  \n",
              "2        0      0     0      0  \n",
              "3        0      0     0      0  \n",
              "4        0      0     0      0  \n",
              "\n",
              "[5 rows x 141 columns]"
            ],
            "text/html": [
              "<div>\n",
              "<style scoped>\n",
              "    .dataframe tbody tr th:only-of-type {\n",
              "        vertical-align: middle;\n",
              "    }\n",
              "\n",
              "    .dataframe tbody tr th {\n",
              "        vertical-align: top;\n",
              "    }\n",
              "\n",
              "    .dataframe thead th {\n",
              "        text-align: right;\n",
              "    }\n",
              "</style>\n",
              "<table border=\"1\" class=\"dataframe\">\n",
              "  <thead>\n",
              "    <tr style=\"text-align: right;\">\n",
              "      <th></th>\n",
              "      <th>index</th>\n",
              "      <th>All</th>\n",
              "      <th>Sensitive</th>\n",
              "      <th>Dry</th>\n",
              "      <th>Acne Prone</th>\n",
              "      <th>Oily</th>\n",
              "      <th>Normal</th>\n",
              "      <th>Combination</th>\n",
              "      <th>Mature</th>\n",
              "      <th>Sensitive, Dry</th>\n",
              "      <th>...</th>\n",
              "      <th>Stick</th>\n",
              "      <th>Wand</th>\n",
              "      <th>Balm</th>\n",
              "      <th>Wrap</th>\n",
              "      <th>Scrunchie</th>\n",
              "      <th>Individual</th>\n",
              "      <th>Elastic</th>\n",
              "      <th>Sheet</th>\n",
              "      <th>Clay</th>\n",
              "      <th>Serum</th>\n",
              "    </tr>\n",
              "  </thead>\n",
              "  <tbody>\n",
              "    <tr>\n",
              "      <th>0</th>\n",
              "      <td>1</td>\n",
              "      <td>0</td>\n",
              "      <td>0</td>\n",
              "      <td>0</td>\n",
              "      <td>1</td>\n",
              "      <td>0</td>\n",
              "      <td>0</td>\n",
              "      <td>0</td>\n",
              "      <td>0</td>\n",
              "      <td>0</td>\n",
              "      <td>...</td>\n",
              "      <td>0</td>\n",
              "      <td>0</td>\n",
              "      <td>0</td>\n",
              "      <td>0</td>\n",
              "      <td>0</td>\n",
              "      <td>0</td>\n",
              "      <td>0</td>\n",
              "      <td>0</td>\n",
              "      <td>0</td>\n",
              "      <td>0</td>\n",
              "    </tr>\n",
              "    <tr>\n",
              "      <th>1</th>\n",
              "      <td>3</td>\n",
              "      <td>1</td>\n",
              "      <td>0</td>\n",
              "      <td>0</td>\n",
              "      <td>0</td>\n",
              "      <td>0</td>\n",
              "      <td>0</td>\n",
              "      <td>0</td>\n",
              "      <td>0</td>\n",
              "      <td>0</td>\n",
              "      <td>...</td>\n",
              "      <td>0</td>\n",
              "      <td>0</td>\n",
              "      <td>0</td>\n",
              "      <td>0</td>\n",
              "      <td>0</td>\n",
              "      <td>0</td>\n",
              "      <td>0</td>\n",
              "      <td>0</td>\n",
              "      <td>0</td>\n",
              "      <td>0</td>\n",
              "    </tr>\n",
              "    <tr>\n",
              "      <th>2</th>\n",
              "      <td>5</td>\n",
              "      <td>0</td>\n",
              "      <td>0</td>\n",
              "      <td>0</td>\n",
              "      <td>0</td>\n",
              "      <td>0</td>\n",
              "      <td>0</td>\n",
              "      <td>0</td>\n",
              "      <td>0</td>\n",
              "      <td>0</td>\n",
              "      <td>...</td>\n",
              "      <td>0</td>\n",
              "      <td>0</td>\n",
              "      <td>0</td>\n",
              "      <td>0</td>\n",
              "      <td>0</td>\n",
              "      <td>0</td>\n",
              "      <td>0</td>\n",
              "      <td>0</td>\n",
              "      <td>0</td>\n",
              "      <td>0</td>\n",
              "    </tr>\n",
              "    <tr>\n",
              "      <th>3</th>\n",
              "      <td>6</td>\n",
              "      <td>0</td>\n",
              "      <td>0</td>\n",
              "      <td>0</td>\n",
              "      <td>0</td>\n",
              "      <td>0</td>\n",
              "      <td>0</td>\n",
              "      <td>0</td>\n",
              "      <td>0</td>\n",
              "      <td>0</td>\n",
              "      <td>...</td>\n",
              "      <td>0</td>\n",
              "      <td>0</td>\n",
              "      <td>0</td>\n",
              "      <td>0</td>\n",
              "      <td>0</td>\n",
              "      <td>0</td>\n",
              "      <td>0</td>\n",
              "      <td>0</td>\n",
              "      <td>0</td>\n",
              "      <td>0</td>\n",
              "    </tr>\n",
              "    <tr>\n",
              "      <th>4</th>\n",
              "      <td>8</td>\n",
              "      <td>0</td>\n",
              "      <td>0</td>\n",
              "      <td>0</td>\n",
              "      <td>0</td>\n",
              "      <td>0</td>\n",
              "      <td>0</td>\n",
              "      <td>0</td>\n",
              "      <td>0</td>\n",
              "      <td>0</td>\n",
              "      <td>...</td>\n",
              "      <td>0</td>\n",
              "      <td>0</td>\n",
              "      <td>0</td>\n",
              "      <td>0</td>\n",
              "      <td>0</td>\n",
              "      <td>0</td>\n",
              "      <td>0</td>\n",
              "      <td>0</td>\n",
              "      <td>0</td>\n",
              "      <td>0</td>\n",
              "    </tr>\n",
              "  </tbody>\n",
              "</table>\n",
              "<p>5 rows × 141 columns</p>\n",
              "</div>"
            ]
          },
          "metadata": {},
          "execution_count": 19
        }
      ],
      "source": [
        "product_features = pd.DataFrame()\n",
        "\n",
        "for column in variables_to_use:\n",
        "\n",
        "  counter_result = Counter(g for g in products[column])\n",
        "  counter_result_df = pd.DataFrame([counter_result]).T.reset_index()\n",
        "  counter_result_df.columns = [column, 'count']\n",
        "  counter_result_df = counter_result_df[~counter_result_df[column].isnull()]\n",
        "  counter_result_df = counter_result_df.sort_values(by='count', ascending=False)\n",
        "  counter_result_df.reset_index(inplace=True)\n",
        "  counter_result_df = counter_result_df.iloc[0:20]\n",
        "\n",
        "  attributes = list(counter_result_df[column].values)\n",
        "\n",
        "  for g in attributes:\n",
        "    try:\n",
        "      products[g] = products[column].transform(lambda x: int(x == g))\n",
        "    except:\n",
        "      products[g] = 0\n",
        "\n",
        "\n",
        "  product_features = pd.concat([products[attributes], product_features], axis=1)\n",
        "\n",
        "product_features.reset_index(inplace=True)\n",
        "products.reset_index(inplace=True)\n",
        "product_features.head()\n",
        "\n"
      ]
    },
    {
      "cell_type": "markdown",
      "metadata": {
        "id": "CDjikB8rEMdS"
      },
      "source": [
        "El dataframe `product_features` esta listo y contiene los datos que nos interesan. Ahora debemos de construir nuestro sistema de recomendacion."
      ]
    },
    {
      "cell_type": "markdown",
      "metadata": {
        "id": "1DpSQtq_EMdS"
      },
      "source": [
        "### Step 5: Construyendo un sistema de recomendacion de \"Peliculas Parecidas\" utilizando similitud Coseno\n",
        "\n",
        "Para construir este sistema de recomendacion item-item utilizaremos una metrica llamada similitud coseno `cosine similarity`.\n",
        "\n",
        "La similitud Coseno se basa en el coseno del angulo entre dos vectores (c.e., $A$ y $B$). Entre mas pequeño es el angulo, mayor es la similitud entre los vectores, y se calcula de la siguiente forma:\n",
        "\n",
        "$$\\cos(\\theta) = \\frac{A\\cdot B}{||A|| ||B||}$$\n",
        "\n",
        "En este ejercicio, utilizaremos la funcion de scikit-learn de `cosine_similarity` para generar la matriz de similitud de tipo $(n_{\\text{movies}}, n_{\\text{movies}})$. Esta matriz nos permitira extraer peliculas que sean parecidas a nuestra pelicula de interes."
      ]
    },
    {
      "cell_type": "code",
      "execution_count": 20,
      "metadata": {
        "colab": {
          "base_uri": "https://localhost:8080/"
        },
        "id": "w0mktS66EMdS",
        "outputId": "fea70087-3515-4c9d-ba5d-83526a2f3a76"
      },
      "outputs": [
        {
          "output_type": "stream",
          "name": "stdout",
          "text": [
            "Las dimensiones de similaridad coseno de las caracteristicas de nuestra matriz de similitud son: (69199, 69199)\n"
          ]
        }
      ],
      "source": [
        "from sklearn.metrics.pairwise import cosine_similarity\n",
        "\n",
        "cosine_sim = cosine_similarity(product_features, product_features)\n",
        "print(f\"Las dimensiones de similaridad coseno de las caracteristicas de nuestra matriz de similitud son: {cosine_sim.shape}\")"
      ]
    },
    {
      "cell_type": "markdown",
      "metadata": {
        "id": "OKly0JnYEMdT"
      },
      "source": [
        "Esto nos indica que al evaluar la similitud de coseno del dataframe `product_features` en la funcion `cosine_similarity()` obtenemos una matriz de similitud del tipo $(n_{\\text{movies}}, n_{\\text{movies}})$.\n",
        "\n",
        "Esta matriz contiene valores entre 0 y 1 que representan el angulo de similaridad entre las peliculas en los ejes x , y.\n"
      ]
    },
    {
      "cell_type": "markdown",
      "metadata": {
        "id": "eG_kaRuAEMdT"
      },
      "source": [
        "### Desarrollando una funcion que encuentre productos similares\n"
      ]
    },
    {
      "cell_type": "code",
      "execution_count": 21,
      "metadata": {
        "colab": {
          "base_uri": "https://localhost:8080/"
        },
        "id": "jdrvbMaVEMdT",
        "outputId": "fb0da7f5-dda1-41f3-c4ac-7578d245d1f3"
      },
      "outputs": [
        {
          "output_type": "stream",
          "name": "stderr",
          "text": [
            "/Users/juan_arturo_rg/anaconda3/lib/python3.11/site-packages/fuzzywuzzy/fuzz.py:11: UserWarning: Using slow pure-python SequenceMatcher. Install python-Levenshtein to remove this warning\n",
            "  warnings.warn('Using slow pure-python SequenceMatcher. Install python-Levenshtein to remove this warning')\n"
          ]
        }
      ],
      "source": [
        "from fuzzywuzzy import process\n",
        "\n",
        "def encuentra_producto(title):\n",
        "    all_titles = products['title'].tolist()\n",
        "    closest_match = process.extractOne(title,all_titles)\n",
        "    return closest_match[0]"
      ]
    },
    {
      "cell_type": "markdown",
      "metadata": {
        "id": "rZMGFAqFEMdT"
      },
      "source": [
        "Probemos la funcionalidad de la funcion `encuentra_pelicula()` al escribir equivocadamente la pelicula `Jumanji`"
      ]
    },
    {
      "cell_type": "code",
      "execution_count": 22,
      "metadata": {
        "colab": {
          "base_uri": "https://localhost:8080/"
        },
        "id": "sw5mUzZ1EMdT",
        "outputId": "7509d3fb-949a-4d07-e02f-ba43795b4785"
      },
      "outputs": [
        {
          "output_type": "stream",
          "name": "stdout",
          "text": [
            "El titulo correcto del producto es: Pro by Oral-B 2500 3D White Pink Toothbrush with Case:\n"
          ]
        }
      ],
      "source": [
        "title = encuentra_producto('White Pink Toothbrush')\n",
        "print(f\"El titulo correcto del producto es: {title}:\")"
      ]
    },
    {
      "cell_type": "markdown",
      "metadata": {
        "id": "uk-ZRPVUEMdT"
      },
      "source": [
        "Ahora que ya no nos preocupamos por escribir mal el titulo del producto, lo que nos interesa es encontrar recomendaciones relevantes a partir del que deseamos.\n"
      ]
    },
    {
      "cell_type": "code",
      "execution_count": 23,
      "metadata": {
        "colab": {
          "base_uri": "https://localhost:8080/"
        },
        "id": "fHT4bYKXEMdT",
        "outputId": "d0d8bba7-c0a3-4941-92df-80e00f3a97ee"
      },
      "outputs": [
        {
          "output_type": "stream",
          "name": "stdout",
          "text": [
            "El indice del producto Pro by Oral-B 2500 3D White Pink Toothbrush with Case en la matriz product_idx es: 69194\n"
          ]
        }
      ],
      "source": [
        "products_idx = dict(zip(products['title'], list(products.index)))\n",
        "idx = products_idx[title]\n",
        "print(f\"El indice del producto {title} en la matriz product_idx es: {idx}\")"
      ]
    },
    {
      "cell_type": "markdown",
      "metadata": {
        "id": "nqeJymDEEMdT"
      },
      "source": [
        "Ahora tratemos de encontrar los 10 productos mas similares."
      ]
    },
    {
      "cell_type": "code",
      "execution_count": 26,
      "metadata": {
        "id": "McgS_e-xEMdU"
      },
      "outputs": [],
      "source": [
        "numero_recomendaciones=10\n",
        "sim_scores = list(enumerate(cosine_sim[idx]))\n",
        "sim_scores = sorted(sim_scores, key=lambda x: x[1], reverse=True)\n",
        "sim_scores = sim_scores[1:(numero_recomendaciones+1)]\n",
        "similar_products = [i[0] for i in sim_scores]"
      ]
    },
    {
      "cell_type": "markdown",
      "metadata": {
        "id": "RxaiL5qQEMdU"
      },
      "source": [
        "`similar_products` es un arreglo de indices que representa el top 10 de recomendaciones a partir del producto elegido"
      ]
    },
    {
      "cell_type": "code",
      "execution_count": 28,
      "metadata": {
        "colab": {
          "base_uri": "https://localhost:8080/"
        },
        "id": "Azy1NwRJEMdU",
        "outputId": "a06c9769-fb47-4002-b939-0dbfdee98f45"
      },
      "outputs": [
        {
          "output_type": "stream",
          "name": "stdout",
          "text": [
            "Por que el producto Pro by Oral-B 2500 3D White Pink Toothbrush with Case, te pueden interesar los siguientes 10 productos:\n"
          ]
        },
        {
          "output_type": "execute_result",
          "data": {
            "text/plain": [
              "68930    10set (3pcs/set) Grooming Brow Stencil Kit Pai...\n",
              "67178    Bogobrush Reusable Toothbrush and Stand Made w...\n",
              "66829    Oral-B Vitality Dual Clean Rechargeable Electr...\n",
              "66653    Oral-B Precision Clean Electric Toothbrush, EA...\n",
              "64933    Reusable Makeup Eraser Pads | 4 Pack Large Eco...\n",
              "64592    Malydyox 3-in-1 Waterproof Sonic Electric Toot...\n",
              "63452    4 Pieces Soft Toothbrush Micro Nano Toothbrush...\n",
              "63137    LNBORZIZN Cat Toothbrush Puppy Toothbrush Disp...\n",
              "62911    Extra Soft Toothbrush with 20000 Soft Bristles...\n",
              "61764    Vsmile Sonic Electric Toothbrushes for Adults ...\n",
              "Name: title, dtype: object"
            ]
          },
          "metadata": {},
          "execution_count": 28
        }
      ],
      "source": [
        "print(f\"Por que el producto {title}, te pueden interesar los siguientes {numero_recomendaciones} productos:\")\n",
        "products['title'].iloc[similar_products]"
      ]
    },
    {
      "cell_type": "markdown",
      "metadata": {
        "id": "5YONylknEMdU"
      },
      "source": [
        "Podemos probar nuestro sistema con otros titulos de peliculas."
      ]
    },
    {
      "cell_type": "code",
      "execution_count": 35,
      "metadata": {
        "id": "To92WRYWEMdU"
      },
      "outputs": [],
      "source": [
        "def obtener_recomendaciones_basadas_contenido(title_string, numero_recomendaciones=10):\n",
        "    title = encuentra_producto(title_string)\n",
        "    idx = products_idx[title]\n",
        "    sim_scores = list(enumerate(cosine_sim[idx]))\n",
        "    sim_scores = sorted(sim_scores, key=lambda x: x[1], reverse=True)\n",
        "    sim_scores = sim_scores[1:(numero_recomendaciones+1)]\n",
        "    similar_products = [i[0] for i in sim_scores]\n",
        "    print(f\"Las productors recomendados con base en \\n\\t{title} \\n son:\")\n",
        "    print(products['title'].iloc[similar_products])"
      ]
    },
    {
      "cell_type": "code",
      "execution_count": 36,
      "metadata": {
        "colab": {
          "base_uri": "https://localhost:8080/"
        },
        "id": "FC4YwkL5EMdU",
        "outputId": "ce977323-d0d3-48ce-a59c-d46dcc5aae61"
      },
      "outputs": [
        {
          "output_type": "stream",
          "name": "stdout",
          "text": [
            "Las productors recomendados con base en \n",
            "\tJosie Maran Coconut Watercolor Eye Shadow in 'Rio de Rose Gold' \n",
            " son:\n",
            "1166    Chin Up Patch | V line | Double Chin Reducer |...\n",
            "372                               Advanced Cleansing Silk\n",
            "371                            Kate Brown Shade Eyes Br-2\n",
            "358     LOL Cosmetics Palette Long Lasting Eyeshadow M...\n",
            "449     Eye Makeup Kit,Includes Smoky Cat Eyeliner Ste...\n",
            "Name: title, dtype: object\n"
          ]
        }
      ],
      "source": [
        "obtener_recomendaciones_basadas_contenido('Eye Shadow', 5)"
      ]
    },
    {
      "cell_type": "code",
      "source": [
        "obtener_recomendaciones_basadas_contenido('Sun Stick', 5)"
      ],
      "metadata": {
        "colab": {
          "base_uri": "https://localhost:8080/"
        },
        "id": "bqZr5rpgqpHJ",
        "outputId": "f3c7aa00-e5c7-4a28-de3a-dde36bac75e3"
      },
      "execution_count": 40,
      "outputs": [
        {
          "output_type": "stream",
          "name": "stdout",
          "text": [
            "Las productors recomendados con base en \n",
            "\tMac Cosmetics Studio Fix Matte Foundation Stick - NW13 \n",
            " son:\n",
            "130    QrBxa 20 Pcs/Set Tattoo Lipstick Cotton Swab L...\n",
            "315    HAIR CHALKS SET: 6 Colors Temporary Hair Color...\n",
            "335    Technic Highlights Stick Cream Highlighter 7.3...\n",
            "376      Beauty 21 Cosmetics Clipc32 Beauty 21 Cosmetics\n",
            "467    Maybelline Vivid Matte Lipstick Number 35, Reb...\n",
            "Name: title, dtype: object\n"
          ]
        }
      ]
    },
    {
      "cell_type": "code",
      "source": [
        "obtener_recomendaciones_basadas_contenido('Shampoo', 5)"
      ],
      "metadata": {
        "colab": {
          "base_uri": "https://localhost:8080/"
        },
        "id": "489J2t8HqpKF",
        "outputId": "30c4d32a-660a-4ab0-93b2-048dd9a174d9"
      },
      "execution_count": 39,
      "outputs": [
        {
          "output_type": "stream",
          "name": "stdout",
          "text": [
            "Las productors recomendados con base en \n",
            "\tNOOK NO YELLOW\"THE SERVICE COLOR\" SILVER SHAMPOO 300 ML. \n",
            " son:\n",
            "180     Sally Hansen Nail Prisms - Golden Tourmaline #29\n",
            "233    Ohana Mahaalo Silky & Moist Fragrance Shampoo ...\n",
            "321         LeChat Dare To Wear Nail Polish - (Plumeria)\n",
            "439    Kao Merit Shampoo Refill Net Wt.11.49 floz/340...\n",
            "461    N°5 Eau De Parfum Spray for Women, 3.4 Ounce/1...\n",
            "Name: title, dtype: object\n"
          ]
        }
      ]
    },
    {
      "cell_type": "code",
      "source": [],
      "metadata": {
        "id": "S7zte0BgqpNE"
      },
      "execution_count": null,
      "outputs": []
    },
    {
      "cell_type": "markdown",
      "metadata": {
        "id": "2WTnazleEMdU"
      },
      "source": [
        "# Recomendaciones finales:\n",
        "\n",
        "## Repite todos los pasos contenidos en este proyecto con el dataset de tu proyecto."
      ]
    }
  ],
  "metadata": {
    "kernelspec": {
      "display_name": "Python 3",
      "language": "python",
      "name": "python3"
    },
    "language_info": {
      "codemirror_mode": {
        "name": "ipython",
        "version": 3
      },
      "file_extension": ".py",
      "mimetype": "text/x-python",
      "name": "python",
      "nbconvert_exporter": "python",
      "pygments_lexer": "ipython3",
      "version": "3.11.7"
    },
    "colab": {
      "provenance": []
    },
    "widgets": {
      "application/vnd.jupyter.widget-state+json": {
        "a6cad0f8c7ea4efb987c1304b5e3ac34": {
          "model_module": "@jupyter-widgets/controls",
          "model_name": "HBoxModel",
          "model_module_version": "2.0.0",
          "state": {
            "_dom_classes": [],
            "_model_module": "@jupyter-widgets/controls",
            "_model_module_version": "2.0.0",
            "_model_name": "HBoxModel",
            "_view_count": null,
            "_view_module": "@jupyter-widgets/controls",
            "_view_module_version": "2.0.0",
            "_view_name": "HBoxView",
            "box_style": "",
            "children": [
              "IPY_MODEL_7b35bff3cdc54ebda6747687ff4cead7",
              "IPY_MODEL_f1c2d441e5544240acb46430495bc452",
              "IPY_MODEL_c331e95a86f4415db9b762f9ba604657"
            ],
            "layout": "IPY_MODEL_3468755acf8840e98a66b2e5a84dad67",
            "tabbable": null,
            "tooltip": null
          }
        },
        "7b35bff3cdc54ebda6747687ff4cead7": {
          "model_module": "@jupyter-widgets/controls",
          "model_name": "HTMLModel",
          "model_module_version": "2.0.0",
          "state": {
            "_dom_classes": [],
            "_model_module": "@jupyter-widgets/controls",
            "_model_module_version": "2.0.0",
            "_model_name": "HTMLModel",
            "_view_count": null,
            "_view_module": "@jupyter-widgets/controls",
            "_view_module_version": "2.0.0",
            "_view_name": "HTMLView",
            "description": "",
            "description_allow_html": false,
            "layout": "IPY_MODEL_b5ad6c56f1a24bdc82c490e7d24a7cf6",
            "placeholder": "​",
            "style": "IPY_MODEL_2402d05f40f047589a844029662b29fc",
            "tabbable": null,
            "tooltip": null,
            "value": "100%"
          }
        },
        "f1c2d441e5544240acb46430495bc452": {
          "model_module": "@jupyter-widgets/controls",
          "model_name": "FloatProgressModel",
          "model_module_version": "2.0.0",
          "state": {
            "_dom_classes": [],
            "_model_module": "@jupyter-widgets/controls",
            "_model_module_version": "2.0.0",
            "_model_name": "FloatProgressModel",
            "_view_count": null,
            "_view_module": "@jupyter-widgets/controls",
            "_view_module_version": "2.0.0",
            "_view_name": "ProgressView",
            "bar_style": "success",
            "description": "",
            "description_allow_html": false,
            "layout": "IPY_MODEL_f06f5c9e5fd3465a8eae4031f088a322",
            "max": 1,
            "min": 0,
            "orientation": "horizontal",
            "style": "IPY_MODEL_709288e0533d4dfba509d7a972cd00eb",
            "tabbable": null,
            "tooltip": null,
            "value": 1
          }
        },
        "c331e95a86f4415db9b762f9ba604657": {
          "model_module": "@jupyter-widgets/controls",
          "model_name": "HTMLModel",
          "model_module_version": "2.0.0",
          "state": {
            "_dom_classes": [],
            "_model_module": "@jupyter-widgets/controls",
            "_model_module_version": "2.0.0",
            "_model_name": "HTMLModel",
            "_view_count": null,
            "_view_module": "@jupyter-widgets/controls",
            "_view_module_version": "2.0.0",
            "_view_name": "HTMLView",
            "description": "",
            "description_allow_html": false,
            "layout": "IPY_MODEL_eddc27de87de41dc84a7e7d225c0badc",
            "placeholder": "​",
            "style": "IPY_MODEL_a81b0cf686e44017ad6d31871d066579",
            "tabbable": null,
            "tooltip": null,
            "value": " 1/1 [00:00&lt;00:00, 68.39it/s]"
          }
        },
        "3468755acf8840e98a66b2e5a84dad67": {
          "model_module": "@jupyter-widgets/base",
          "model_name": "LayoutModel",
          "model_module_version": "2.0.0",
          "state": {
            "_model_module": "@jupyter-widgets/base",
            "_model_module_version": "2.0.0",
            "_model_name": "LayoutModel",
            "_view_count": null,
            "_view_module": "@jupyter-widgets/base",
            "_view_module_version": "2.0.0",
            "_view_name": "LayoutView",
            "align_content": null,
            "align_items": null,
            "align_self": null,
            "border_bottom": null,
            "border_left": null,
            "border_right": null,
            "border_top": null,
            "bottom": null,
            "display": null,
            "flex": null,
            "flex_flow": null,
            "grid_area": null,
            "grid_auto_columns": null,
            "grid_auto_flow": null,
            "grid_auto_rows": null,
            "grid_column": null,
            "grid_gap": null,
            "grid_row": null,
            "grid_template_areas": null,
            "grid_template_columns": null,
            "grid_template_rows": null,
            "height": null,
            "justify_content": null,
            "justify_items": null,
            "left": null,
            "margin": null,
            "max_height": null,
            "max_width": null,
            "min_height": null,
            "min_width": null,
            "object_fit": null,
            "object_position": null,
            "order": null,
            "overflow": null,
            "padding": null,
            "right": null,
            "top": null,
            "visibility": null,
            "width": null
          }
        },
        "b5ad6c56f1a24bdc82c490e7d24a7cf6": {
          "model_module": "@jupyter-widgets/base",
          "model_name": "LayoutModel",
          "model_module_version": "2.0.0",
          "state": {
            "_model_module": "@jupyter-widgets/base",
            "_model_module_version": "2.0.0",
            "_model_name": "LayoutModel",
            "_view_count": null,
            "_view_module": "@jupyter-widgets/base",
            "_view_module_version": "2.0.0",
            "_view_name": "LayoutView",
            "align_content": null,
            "align_items": null,
            "align_self": null,
            "border_bottom": null,
            "border_left": null,
            "border_right": null,
            "border_top": null,
            "bottom": null,
            "display": null,
            "flex": null,
            "flex_flow": null,
            "grid_area": null,
            "grid_auto_columns": null,
            "grid_auto_flow": null,
            "grid_auto_rows": null,
            "grid_column": null,
            "grid_gap": null,
            "grid_row": null,
            "grid_template_areas": null,
            "grid_template_columns": null,
            "grid_template_rows": null,
            "height": null,
            "justify_content": null,
            "justify_items": null,
            "left": null,
            "margin": null,
            "max_height": null,
            "max_width": null,
            "min_height": null,
            "min_width": null,
            "object_fit": null,
            "object_position": null,
            "order": null,
            "overflow": null,
            "padding": null,
            "right": null,
            "top": null,
            "visibility": null,
            "width": null
          }
        },
        "2402d05f40f047589a844029662b29fc": {
          "model_module": "@jupyter-widgets/controls",
          "model_name": "HTMLStyleModel",
          "model_module_version": "2.0.0",
          "state": {
            "_model_module": "@jupyter-widgets/controls",
            "_model_module_version": "2.0.0",
            "_model_name": "HTMLStyleModel",
            "_view_count": null,
            "_view_module": "@jupyter-widgets/base",
            "_view_module_version": "2.0.0",
            "_view_name": "StyleView",
            "background": null,
            "description_width": "",
            "font_size": null,
            "text_color": null
          }
        },
        "f06f5c9e5fd3465a8eae4031f088a322": {
          "model_module": "@jupyter-widgets/base",
          "model_name": "LayoutModel",
          "model_module_version": "2.0.0",
          "state": {
            "_model_module": "@jupyter-widgets/base",
            "_model_module_version": "2.0.0",
            "_model_name": "LayoutModel",
            "_view_count": null,
            "_view_module": "@jupyter-widgets/base",
            "_view_module_version": "2.0.0",
            "_view_name": "LayoutView",
            "align_content": null,
            "align_items": null,
            "align_self": null,
            "border_bottom": null,
            "border_left": null,
            "border_right": null,
            "border_top": null,
            "bottom": null,
            "display": null,
            "flex": null,
            "flex_flow": null,
            "grid_area": null,
            "grid_auto_columns": null,
            "grid_auto_flow": null,
            "grid_auto_rows": null,
            "grid_column": null,
            "grid_gap": null,
            "grid_row": null,
            "grid_template_areas": null,
            "grid_template_columns": null,
            "grid_template_rows": null,
            "height": null,
            "justify_content": null,
            "justify_items": null,
            "left": null,
            "margin": null,
            "max_height": null,
            "max_width": null,
            "min_height": null,
            "min_width": null,
            "object_fit": null,
            "object_position": null,
            "order": null,
            "overflow": null,
            "padding": null,
            "right": null,
            "top": null,
            "visibility": null,
            "width": null
          }
        },
        "709288e0533d4dfba509d7a972cd00eb": {
          "model_module": "@jupyter-widgets/controls",
          "model_name": "ProgressStyleModel",
          "model_module_version": "2.0.0",
          "state": {
            "_model_module": "@jupyter-widgets/controls",
            "_model_module_version": "2.0.0",
            "_model_name": "ProgressStyleModel",
            "_view_count": null,
            "_view_module": "@jupyter-widgets/base",
            "_view_module_version": "2.0.0",
            "_view_name": "StyleView",
            "bar_color": null,
            "description_width": ""
          }
        },
        "eddc27de87de41dc84a7e7d225c0badc": {
          "model_module": "@jupyter-widgets/base",
          "model_name": "LayoutModel",
          "model_module_version": "2.0.0",
          "state": {
            "_model_module": "@jupyter-widgets/base",
            "_model_module_version": "2.0.0",
            "_model_name": "LayoutModel",
            "_view_count": null,
            "_view_module": "@jupyter-widgets/base",
            "_view_module_version": "2.0.0",
            "_view_name": "LayoutView",
            "align_content": null,
            "align_items": null,
            "align_self": null,
            "border_bottom": null,
            "border_left": null,
            "border_right": null,
            "border_top": null,
            "bottom": null,
            "display": null,
            "flex": null,
            "flex_flow": null,
            "grid_area": null,
            "grid_auto_columns": null,
            "grid_auto_flow": null,
            "grid_auto_rows": null,
            "grid_column": null,
            "grid_gap": null,
            "grid_row": null,
            "grid_template_areas": null,
            "grid_template_columns": null,
            "grid_template_rows": null,
            "height": null,
            "justify_content": null,
            "justify_items": null,
            "left": null,
            "margin": null,
            "max_height": null,
            "max_width": null,
            "min_height": null,
            "min_width": null,
            "object_fit": null,
            "object_position": null,
            "order": null,
            "overflow": null,
            "padding": null,
            "right": null,
            "top": null,
            "visibility": null,
            "width": null
          }
        },
        "a81b0cf686e44017ad6d31871d066579": {
          "model_module": "@jupyter-widgets/controls",
          "model_name": "HTMLStyleModel",
          "model_module_version": "2.0.0",
          "state": {
            "_model_module": "@jupyter-widgets/controls",
            "_model_module_version": "2.0.0",
            "_model_name": "HTMLStyleModel",
            "_view_count": null,
            "_view_module": "@jupyter-widgets/base",
            "_view_module_version": "2.0.0",
            "_view_name": "StyleView",
            "background": null,
            "description_width": "",
            "font_size": null,
            "text_color": null
          }
        }
      }
    }
  },
  "nbformat": 4,
  "nbformat_minor": 0
}